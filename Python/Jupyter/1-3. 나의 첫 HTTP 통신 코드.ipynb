{
 "cells": [
  {
   "cell_type": "markdown",
   "id": "192778f5-b6a0-458f-9d28-2ecd531975a1",
   "metadata": {},
   "source": [
    "## 1-3. 나의 첫 HTTP 통신 코드\n",
    "\n",
    "- Python의 `requests` 라이브러리를 이용해 HTTP 통신을 진행해봅시다."
   ]
  },
  {
   "cell_type": "markdown",
   "id": "4641b904-0d90-4bd0-a963-3f01ea8547d1",
   "metadata": {},
   "source": [
    "### request 라이브러리\n",
    "\n",
    "- `requests`는 Python을 이용해서 간단히 HTTP 통신을 진행할 수 있는 라이브러리입니다.\n",
    "\n",
    "이를 사용하기 위해서는 먼저 `requests` 라이브러리를 설치해야합니다.  \n",
    "`pip install`을 통해서 이를 간단하게 실행할 수 있습니다.\n",
    "\n",
    "> Tip: `%`를 이용해서 노트북(.ipynb) 환경에서 터미널 코드를 실행할 수 있습니다."
   ]
  },
  {
   "cell_type": "code",
   "execution_count": 1,
   "id": "1b08d5f2-01ae-4b19-bff8-f933f12f94e4",
   "metadata": {},
   "outputs": [
    {
     "name": "stdout",
     "output_type": "stream",
     "text": [
      "Collecting requests\n",
      "  Obtaining dependency information for requests from https://files.pythonhosted.org/packages/70/8e/0e2d847013cb52cd35b38c009bb167a1a26b2ce6cd6965bf26b47bc0bf44/requests-2.31.0-py3-none-any.whl.metadata\n",
      "  Downloading requests-2.31.0-py3-none-any.whl.metadata (4.6 kB)\n",
      "Collecting charset-normalizer<4,>=2 (from requests)\n",
      "  Obtaining dependency information for charset-normalizer<4,>=2 from https://files.pythonhosted.org/packages/dd/51/68b61b90b24ca35495956b718f35a9756ef7d3dd4b3c1508056fa98d1a1b/charset_normalizer-3.3.2-cp311-cp311-macosx_11_0_arm64.whl.metadata\n",
      "  Downloading charset_normalizer-3.3.2-cp311-cp311-macosx_11_0_arm64.whl.metadata (33 kB)\n",
      "Collecting idna<4,>=2.5 (from requests)\n",
      "  Obtaining dependency information for idna<4,>=2.5 from https://files.pythonhosted.org/packages/c2/e7/a82b05cf63a603df6e68d59ae6a68bf5064484a0718ea5033660af4b54a9/idna-3.6-py3-none-any.whl.metadata\n",
      "  Downloading idna-3.6-py3-none-any.whl.metadata (9.9 kB)\n",
      "Collecting urllib3<3,>=1.21.1 (from requests)\n",
      "  Obtaining dependency information for urllib3<3,>=1.21.1 from https://files.pythonhosted.org/packages/a2/73/a68704750a7679d0b6d3ad7aa8d4da8e14e151ae82e6fee774e6e0d05ec8/urllib3-2.2.1-py3-none-any.whl.metadata\n",
      "  Downloading urllib3-2.2.1-py3-none-any.whl.metadata (6.4 kB)\n",
      "Requirement already satisfied: certifi>=2017.4.17 in /opt/homebrew/lib/python3.11/site-packages (from requests) (2023.7.22)\n",
      "Downloading requests-2.31.0-py3-none-any.whl (62 kB)\n",
      "\u001b[2K   \u001b[90m━━━━━━━━━━━━━━━━━━━━━━━━━━━━━━━━━━━━━━━━\u001b[0m \u001b[32m62.6/62.6 kB\u001b[0m \u001b[31m9.0 MB/s\u001b[0m eta \u001b[36m0:00:00\u001b[0m\n",
      "\u001b[?25hDownloading charset_normalizer-3.3.2-cp311-cp311-macosx_11_0_arm64.whl (118 kB)\n",
      "\u001b[2K   \u001b[90m━━━━━━━━━━━━━━━━━━━━━━━━━━━━━━━━━━━━━━━━\u001b[0m \u001b[32m119.0/119.0 kB\u001b[0m \u001b[31m4.4 MB/s\u001b[0m eta \u001b[36m0:00:00\u001b[0m\n",
      "\u001b[?25hDownloading idna-3.6-py3-none-any.whl (61 kB)\n",
      "\u001b[2K   \u001b[90m━━━━━━━━━━━━━━━━━━━━━━━━━━━━━━━━━━━━━━━━\u001b[0m \u001b[32m61.6/61.6 kB\u001b[0m \u001b[31m5.6 MB/s\u001b[0m eta \u001b[36m0:00:00\u001b[0m\n",
      "\u001b[?25hDownloading urllib3-2.2.1-py3-none-any.whl (121 kB)\n",
      "\u001b[2K   \u001b[90m━━━━━━━━━━━━━━━━━━━━━━━━━━━━━━━━━━━━━━━━\u001b[0m \u001b[32m121.1/121.1 kB\u001b[0m \u001b[31m6.5 MB/s\u001b[0m eta \u001b[36m0:00:00\u001b[0m\n",
      "\u001b[?25hInstalling collected packages: urllib3, idna, charset-normalizer, requests\n",
      "Successfully installed charset-normalizer-3.3.2 idna-3.6 requests-2.31.0 urllib3-2.2.1\n",
      "\n",
      "\u001b[1m[\u001b[0m\u001b[34;49mnotice\u001b[0m\u001b[1;39;49m]\u001b[0m\u001b[39;49m A new release of pip is available: \u001b[0m\u001b[31;49m23.2.1\u001b[0m\u001b[39;49m -> \u001b[0m\u001b[32;49m24.0\u001b[0m\n",
      "\u001b[1m[\u001b[0m\u001b[34;49mnotice\u001b[0m\u001b[1;39;49m]\u001b[0m\u001b[39;49m To update, run: \u001b[0m\u001b[32;49mpython3.11 -m pip install --upgrade pip\u001b[0m\n",
      "Note: you may need to restart the kernel to use updated packages.\n"
     ]
    }
   ],
   "source": [
    "%pip install requests"
   ]
  },
  {
   "cell_type": "markdown",
   "id": "03b2584d-ca5a-4aa6-80ce-0c478a097fbd",
   "metadata": {},
   "source": [
    "설치를 다 진행했다면, 이제 requests 모듈을 사용할 준비가 되었습니다.\n",
    "\n",
    "이제 이를 바탕으로 HTTP 요청을 진행해보러 가볼까요?"
   ]
  },
  {
   "cell_type": "markdown",
   "id": "060b520e-2569-4cf0-a38c-8a68c37eb907",
   "metadata": {},
   "source": [
    "### 정보를 달라고 요청하기, GET"
   ]
  },
  {
   "cell_type": "code",
   "execution_count": 4,
   "id": "530b2366-1e2d-4c86-b432-9b9a56778041",
   "metadata": {},
   "outputs": [
    {
     "data": {
      "text/plain": [
       "<Response [200]>"
      ]
     },
     "execution_count": 4,
     "metadata": {},
     "output_type": "execute_result"
    }
   ],
   "source": [
    "# requests 라이브러리를 불러온 후, NAVER의 홈 페이지를 요청한 후 응답 받아보기\n",
    "import requests\n",
    "\n",
    "res = requests.get(\"https://www.naver.com\")\n",
    "\n",
    "res"
   ]
  },
  {
   "cell_type": "code",
   "execution_count": 5,
   "id": "3f99f957-56b9-4615-864b-a8f68611ab7c",
   "metadata": {},
   "outputs": [
    {
     "data": {
      "text/plain": [
       "{'Date': 'Tue, 02 Apr 2024 04:51:01 GMT', 'content-type': 'text/html; charset=UTF-8', 'transfer-encoding': 'chunked', 'set-cookie': 'PM_CK_loc=6ef04bf8f31faa140514295ea1fb7107fb0b52531359dea84499a09fde611a2e; Expires=Wed, 03 Apr 2024 04:51:01 GMT; Path=/; HttpOnly', 'cache-control': 'no-cache, no-store, must-revalidate', 'pragma': 'no-cache', 'x-frame-options': 'DENY', 'x-xss-protection': '1; mode=block', 'content-encoding': 'gzip', 'strict-transport-security': 'max-age=63072000; includeSubdomains', 'referrer-policy': 'unsafe-url', 'server': 'nfront'}"
      ]
     },
     "execution_count": 5,
     "metadata": {},
     "output_type": "execute_result"
    }
   ],
   "source": [
    "# Header를 확인해봅시다 : .headers\n",
    "res.headers"
   ]
  },
  {
   "cell_type": "code",
   "execution_count": 6,
   "id": "80fb516c-d62e-4f9e-a76a-a395ebeb05c3",
   "metadata": {},
   "outputs": [
    {
     "data": {
      "text/plain": [
       "'   <!doctype html> <html lang=\"ko\" class=\"fzoom\"> <head> <meta charset=\"utf-8\"> <meta name=\"Referrer\" content=\"origin\"> <meta http-equiv=\"X-UA-Compatible\" content=\"IE=edge\"> <meta name=\"viewport\" content=\"width=1190\"> <title>NAVER</title> <meta name=\"apple-mobile-web-app-title\" content=\"NAVER\"/> <meta name=\"robots\" content=\"index,nofollow\"/> <meta name=\"description\" content=\"네이버 메인에서 다양한 정보와 유용한 컨텐츠를 만나 보세요\"/> <meta property=\"og:title\" content=\"네이버\"> <meta property=\"og:url\" content=\"https://www.naver.com/\"> <meta property=\"og:image\" content=\"https://s.pstatic.net/static/www/mobile/edit/2016/0705/mobile_212852414260.png\"> <meta property=\"og:description\" content=\"네이버 메인에서 다양한 정보와 유용한 컨텐츠를 만나 보세요\"/> <meta name=\"twitter:card\" content=\"summary\"> <meta name=\"twitter:title\" content=\"\"> <meta name=\"twitter:url\" content=\"https://www.naver.com/\"> <meta name=\"twitter:image\" content=\"https://s.pstatic.net/static/www/mobile/edit/2016/0705/mobile_212852414260.png\"> <meta name=\"twitter:description\" c'"
      ]
     },
     "execution_count": 6,
     "metadata": {},
     "output_type": "execute_result"
    }
   ],
   "source": [
    "# Body를 텍스트 형태로 확인해봅시다 : .text\n",
    "res.text[:1000]"
   ]
  },
  {
   "cell_type": "markdown",
   "id": "5304dfa9-2edf-4745-bcc6-8ae1e8df39af",
   "metadata": {},
   "source": [
    "### 정보 **갱신**하는 것을 요청하기, POST\n",
    "\n",
    "그렇다면 이렇게 항상 정보를 가져오는 경우만 있습니다.\n",
    "\n",
    "아닙니다. 우리는 우리의 정보를 제공해주면서 서버로하여금 무언가 요청을 진행할 때도 있습니다.  \n",
    "우리가 매일 진행하는, **로그인**이 바로 그 예시죠.\n",
    "\n",
    "이러한 요청을 처리하는 HTTP Method가 있는데, 바로 POST입니다.\n",
    "\n",
    "POST를 활용하기 위해 다음 사이트를 이용해보도록 하겠습니다:\n",
    "https://webhook.site\n"
   ]
  },
  {
   "cell_type": "code",
   "execution_count": 8,
   "id": "26e256af-33d9-42ac-8334-fa2d1ae5d4b0",
   "metadata": {},
   "outputs": [],
   "source": [
    "# payload와 함께 POST를 보내봅시다 : requests.post()\n",
    "payload = {\"name\": \"Hello\", \"age\": 13}\n",
    "\n",
    "resP = requests.post(\"https://webhook.site/b6da5563-2ec9-4731-9119-606e365eaf17\",payload)"
   ]
  },
  {
   "cell_type": "markdown",
   "id": "d628e3d0",
   "metadata": {},
   "source": [
    "응답의 상태 코드를 통해 응답이 잘 왔는지 확인해볼까요?"
   ]
  },
  {
   "cell_type": "code",
   "execution_count": 9,
   "id": "3db1eaaa",
   "metadata": {},
   "outputs": [
    {
     "data": {
      "text/plain": [
       "200"
      ]
     },
     "execution_count": 9,
     "metadata": {},
     "output_type": "execute_result"
    }
   ],
   "source": [
    "# 상태 코드(status code)를 확인해봅시다 : .status_code\n",
    "resP.status_code"
   ]
  },
  {
   "cell_type": "code",
   "execution_count": null,
   "id": "907516c9",
   "metadata": {},
   "outputs": [],
   "source": []
  }
 ],
 "metadata": {
  "kernelspec": {
   "display_name": "Python 3 (ipykernel)",
   "language": "python",
   "name": "python3"
  },
  "language_info": {
   "codemirror_mode": {
    "name": "ipython",
    "version": 3
   },
   "file_extension": ".py",
   "mimetype": "text/x-python",
   "name": "python",
   "nbconvert_exporter": "python",
   "pygments_lexer": "ipython3",
   "version": "3.11.6"
  }
 },
 "nbformat": 4,
 "nbformat_minor": 5
}
